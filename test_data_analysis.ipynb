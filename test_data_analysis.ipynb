{
 "cells": [
  {
   "cell_type": "code",
   "execution_count": 2,
   "metadata": {},
   "outputs": [
    {
     "name": "stdout",
     "output_type": "stream",
     "text": [
      "0     Can you lower the dose of metformin when you s...\n",
      "1     Dr. Trottier is asking for any information on ...\n",
      "2       All information on Rybelsus cv data and studies\n",
      "3     Any information on Rybelsus and glp1’s and hea...\n",
      "4     Asked to see information from the Rybelsus SOU...\n",
      "5     Are there any additional trials/data for weigh...\n",
      "6     Physician asking how to administer Rybelsus in...\n",
      "7     How do nausea rates compare between ozempic an...\n",
      "8     I was just wondering - have a patient with lac...\n",
      "9     Doctor requested any additional information on...\n",
      "10    Provider requested information on  Rybelsus  a...\n",
      "11    Doctor would like to receive information relat...\n",
      "12    Doctor would like to receive any information r...\n",
      "13    Provider would like more info on Pioneer 5, RE...\n",
      "14    Provider would like to know if Rybelsus has be...\n",
      "15    What data is there for semaglutide use and pat...\n",
      "16    Dr Liu has a patient that was in the hospital ...\n",
      "17    Provider would like additional information on ...\n",
      "18    Dr. Lach would like to know if there have been...\n",
      "19    Please send the MI letter OSEM 044 (Allergic R...\n",
      "20                  Does Rybelsus cause disorientation?\n",
      "21    I know that it is ideal to take one 3 mg, 7 mg...\n",
      "22    Provider has patient on Rybelsus 14 mg that ca...\n",
      "23     Can you double 3 mg and get same results as 7 mg\n",
      "24    Provider was inquiring about a patient who has...\n",
      "25    Please send OSEM 601 and OSEM 400 to customer ...\n",
      "26    Dr has asked if patients drink black coffee wi...\n",
      "27    How do you take this medication with other med...\n",
      "28    Doctor requested any additional information on...\n",
      "29    In patients with elevated proteinuria is Rybel...\n",
      "                            ...                        \n",
      "56    What happens to the efficacy of the tablet of ...\n",
      "57    Is there any data supporting a cardiovascular ...\n",
      "58    PharmD Requested the following :\\narticle by O...\n",
      "59    Request for \\n‘ Practical guidance for use of ...\n",
      "60    If a patient on Rybelsus 14 mg still feels ful...\n",
      "61    Please send the cardiovascular outcomes trial ...\n",
      "62    Is there a cause and effect between dose escal...\n",
      "63    Nghi would like any and all information on the...\n",
      "64    Jessica would like to know if there would be a...\n",
      "65    Serious adverse reactions:\\n- acute kidney inj...\n",
      "66    Does Rybelsus cause lethargy and if so, how ca...\n",
      "67    Can you please review how to administer Rybels...\n",
      "68    Jeanine Evans APRN asked, “What should I do if...\n",
      "69    HCP requests guidance on how to manage thyroid...\n",
      "70    Any studies on Rybelsus and weight loss. If so...\n",
      "71    Will you send me any information on any clinic...\n",
      "72        Please send MI letter OSEM 072 (Pancreatitis)\n",
      "73    Dr. Lia would like to know if pt.s can take Ry...\n",
      "74    Doctor has been told and feels SGLT-1 protects...\n",
      "75    Is there evidence to support use in patients w...\n",
      "76    Will they ever have a Rybelsus molecule tablet...\n",
      "77    Dr. Patel would like further information on sa...\n",
      "78    What is the best way to advise patients who ta...\n",
      "79    Dr. Viglione asked if there are any reports, o...\n",
      "80    Dr. He has two questions. 1. She is looking fo...\n",
      "81    Would like to know when to take thyroid with r...\n",
      "82    Pharmacist is interested to know if there will...\n",
      "83    Provider has a question regarding MTC in relat...\n",
      "84    Dr. Kipp inquired about how much weight was lo...\n",
      "85    Please send 1 page Medicaid summary to custome...\n",
      "Name: Data, Length: 86, dtype: object\n"
     ]
    }
   ],
   "source": [
    "#importing the data from excel\n",
    "import pandas as pd\n",
    "\n",
    "df = pd.read_excel (r'./test_data.xlsx')\n",
    "print (df['Data'])"
   ]
  },
  {
   "cell_type": "code",
   "execution_count": 77,
   "metadata": {},
   "outputs": [
    {
     "name": "stdout",
     "output_type": "stream",
     "text": [
      "[['lower', 'dose', 'metformin', 'start', 'patient', 'Rybelsus', 'data', 'around', 'question', 'provided'], ['Dr.', 'Trottier', 'asking', 'information', 'patients', 'potentially', 'experiencing', 'sun', 'sensitivity', 'rybelsus'], ['information', 'Rybelsus', 'cv', 'data', 'studies'], ['information', 'Rybelsus', 'glp1', '’', 'heartburn'], ['Asked', 'see', 'information', 'Rybelsus', 'SOUL', 'trial'], ['additional', 'trials/data', 'weight', 'management', 'Rybelsus', 'used', 'diabetes', 'and/or', 'obesity', 'market', 'Rybelsus', 'indication', 'weight', 'management'], ['Physician', 'asking', 'administer', 'Rybelsus', 'patient', 'needs', 'take', 'thyroid', 'medication'], ['nausea', 'rates', 'compare', 'ozempic', 'rybelsus', 'please', 'include', 'MI', 'letter', 'OSEM', '040', 'response'], ['wondering', 'patient', 'lactose/soy/egg', 'allergies', '--', 'Rybelsus', 'stopped', 'due', 'reported', 'urine', 'incontinence', 'heard', 'side', 'effect', '--', 'thinking', 'could', 'allergies', 'tr'], ['Doctor', 'requested', 'additional', 'information', 'whether', 'Rybelsus', 'safe', 'patients', 'diminished', 'egfr', 'less', '30'], ['Provider', 'requested', 'information', 'Rybelsus', 'cardio', 'benefits', 'may', 'offer', 'geriatric', 'patients', 'population', 'Also', 'additional', 'side', 'effects', 'seen', 'geriatric', 'population', 'vs', 'younger', 'population'], ['Doctor', 'would', 'like', 'receive', 'information', 'related', 'efficacy', 'Rybelsus', 'patients', 'gastric', 'bypass', 'relates', 'possible', 'interference', 'absorption', 'mechanism'], ['Doctor', 'would', 'like', 'receive', 'information', 'related', 'possible', 'weight', 'loss', 'indication', 'oral', 'semaglutide', 'future'], ['Provider', 'would', 'like', 'info', 'Pioneer', '5', 'RENAL', 'CLEARANCE', 'QUESTIONS', 'RYBELSYS'], ['Provider', 'would', 'like', 'know', 'Rybelsus', 'shown', 'cause', 'hypomagnesemia'], ['data', 'semaglutide', 'use', 'patients', 'CKD', 'Rybelsus', 'Ozempic'], ['Dr', 'Liu', 'patient', 'hospital', 'stroke', 'wanted', 'start', 'Ozempic', 'patient', 'preferred', 'pill', 'started', 'Rybelsus', 'lunch', 'today', 'reviewed', 'Cardiovascular', 'data', 'Ozempic', 'specifically', 'strok'], ['Provider', 'would', 'like', 'additional', 'information', 'Rybelsus', 'pancreatitis', 'Recommend', 'sending', 'Ryblesus', 'MI', 'Infographic', 'pancreatitis'], ['Dr.', 'Lach', 'would', 'like', 'know', 'post', 'marketing', 'reports', 'kidney', 'liver', 'damage', 'associated', 'Rybelsus', 'Also', 'specific', 'data', 'points', 'led', 'acute', 'kidney', 'injury', 'warning'], ['Please', 'send', 'MI', 'letter', 'OSEM', '044', 'Allergic', 'Reactions'], ['Rybelsus', 'cause', 'disorientation'], ['know', 'ideal', 'take', 'one', '3', 'mg', '7', 'mg', '14', 'mg', 'tablet', 'happens', 'take', 'two', '3', 'mg', 'two', '7', 'mg', 'tablets', 'together', 'see', \"n't\", 'recommended', 'actual', 'effect', 'absorption', 'distribution', 'metabolism', 'Could', 'table'], ['Provider', 'patient', 'Rybelsus', '14', 'mg', 'came', 'new', 'patient', 'Rybelsus', 'since', 'December', 'good', 'results', 'Previous', 'history', 'pancreatitis', 'prior', 'ever', 'Rybelsus', '2006', 'provider', 'need', 'stop', 'warning', 'PI'], ['double', '3', 'mg', 'get', 'results', '7', 'mg'], ['Provider', 'inquiring', 'patient', 'developed', 'skin', 'rash', 'starting', 'rybelsus'], ['Please', 'send', 'OSEM', '601', 'OSEM', '400', 'customer', 'per', 'request'], ['Dr', 'asked', 'patients', 'drink', 'black', 'coffee', 'rybelsus', 'happen', 'instructed', 'take', 'sip', 'water', '4', 'oz', 'specifically', 'wants', 'know', 'coffee', 'pill', 'vs', 'water', 'would', 'like', 'able', 'explai'], ['take', 'medication', 'medications', 'Omeprazole', 'similar', 'PPI', 'Levothyroxine'], ['Doctor', 'requested', 'additional', 'information', 'Using', 'Rybelsus', 'Patients', 'Severely', 'moderate', 'diminished', 'EGFR'], ['patients', 'elevated', 'proteinuria', 'Rybelsus', 'able', 'used', 'effective', 'safe'], ['Dr.', 'Makam', 'requesting', 'data', 'peak', 'levels', 'bioavailability', 'Rybelsus'], ['Dr.', 'Makam', 'requesting', 'update', 'SOUL', 'MACE', 'reduction', 'outcomes'], ['please', 'send', 'data', 'using', 'Rybelsus', 'patient', 'pancreatectomy', 'please'], ['taking', 'semaglutide', 'cause', 'body', 'produce', 'less', 'naturally', 'occurring', 'GLP1', 'time'], ['additional', 'CV', 'data', 'Rybelsus'], ['Doctor', 'patient', 'Rybelsus', 'recently', 'disclosed', 'father', 'died', 'thyroid', 'cancer', 'unsure', 'type', 'thyroid', 'cancer', 'Doctor', 'would', 'like', 'information', 'thyroid', 'cancer', 'risk', 'humans', 'per', 'post', 'marketing', 'data', 'additional', 'inf'], ['specific', 'safety', 'data', 'using', 'Rybelsus', 'Dialysis', 'patients'], ['please', 'provide', 'information', 'use', 'Rybelsus', 'PCOS', 'population'], ['become', 'investigator', 'get', 'involved', 'clinical', 'trials'], ['provide', 'information', 'studies', 'currently', 'going', 'related', 'Rybelsus', 'higher', 'doses'], ['ho8', 'updated', 'information', 'Rybelsus/Ozempic', 'fatty', 'liver', 'disease', 'studies'], ['Dr', 'Popa', 'would', 'Like', 'know', '’', 'clinal', 'reports', 'elevated', 'liver', 'function', 'test', 'Rybelsus'], ['HCP', 'requested', 'PIs', '3', 'products', 'discussed', 'meeting', 'today', 'Rybelsus', 'Victoza', 'Ozempic'], ['Clinical', 'evidence', 'statistics', 'gallbladder', 'disease', 'induced', 'GLP1', 'therapy'], ['Rybelsus', 'therapy', 'cause', 'blurred', 'vision', 'data', 'available', 'recommended', 'steps', 'regarding', 'worsening', 'retinopathy', 'PLEASE', 'NOTE', 'adverse', 'event', 'already', 'reported', 'Product', 'Safety'], ['please', 'send', 'comparison', 'data', 'Rybelsus', 'compared', 'doses', 'Ozempic', 'regards', 'rate', 'retinopathy'], ['Provider', 'wanted', 'know', 'happens', 'patient', 'takes', 'two', 'Rybelsus', 'tablets', 'time', 'Example', 'two', 'Rybelsus', '3', 'mg', 'two', 'Rybelsus', '7mg'], ['Provider', 'asking', 'RYBELSUS', 'used', 'patients', 'gastric', 'bypass', 'gastric', 'sleeve'], ['please', 'inform', 'take', 'Rybelsus', 'taking', 'medication', 'like', 'Levothyroxine'], ['please', 'inform', 'take', 'Rybelsus', 'taking', 'medication', 'like', 'Levothyroxine'], ['Provider', 'questions', 'rates', 'allergic', 'reaction', 'Rybelsus', 'Described', 'patient', 'safety', 'event', 'Rybelsus', '14', 'mg', '73', 'yo', 'female', 'eyelid', 'swelling', 'lip', 'itching', 'Safety', 'report', 'submitted', 'Please', 'send', 'Allergic', 'Reactions', 'OSEM', '044'], ['Please', 'inform', 'take', 'drugs', 'Levothyroxine', 'taking', 'Rybelsus'], ['studies', 'product', 'patients', 'kidney', 'transplants'], ['please', 'send', 'MIR', 'letter', 'describing', 'SOUL', 'trial'], ['Information', 'pancreatitis', 'Studies', 'details', 'occurs', 'Rybelsus', 'Ozempic'], ['clinical', 'studies', 'showing', 'primary', 'secondary', 'endpoints', 'Rybelsus', 'add-on', 'Jardiance', 'Januvia', 'would', 'like', 'see', 'data'], ['happens', 'efficacy', 'tablet', 'Rybelsus', 'tablet', 'cut', 'tablet', 'added', 'medications'], ['data', 'supporting', 'cardiovascular', 'indication', 'Rybelsus', 'since', 'molecule', 'Ozempic'], ['PharmD', 'Requested', 'following', 'article', 'Overgaard', 'et', 'Al', '“', 'levels', 'circulating', 'sema', 'determine', 'reductions', 'innA1c', 'body', 'weight', 'T2D', '”', 'Cell', 'reports', 'medicine', '2021', 'Request', 'article', 'Kane', 'Al', '“', 'Management', 'T2D', 'oral', 'sema', '-practical', 'guida'], ['Request', '‘', 'Practical', 'guidance', 'use', 'oral', 'sema', 'primary', 'care', 'narrative', 'review', '“', 'Morales', 'Postgrad', 'Medicine', '2020'], ['patient', 'Rybelsus', '14', 'mg', 'still', 'feels', 'full', 'morning', 'hours', 'fasted', '10', 'hours', 'still', 'absorbed', 'patient', 'gastroparesis', 'limited', 'reduced', 'Absorption'], ['Please', 'send', 'cardiovascular', 'outcomes', 'trial', 'Rybelsus'], ['cause', 'effect', 'dose', 'escalation', 'acute', 'kidney', 'injury', 'patient', 'lowering', 'GFR', 'would', 'increasing', 'dose', 'RYBELSUS'], ['Nghi', 'would', 'like', 'information', 'safety', 'Rybelsus', 'thinner', 'diabetic', 'patients'], ['Jessica', 'would', 'like', 'know', 'would', 'concerns', 'starting', 'patient', 'Rybelsus', 'NASH', 'gastroparesis'], ['Serious', 'adverse', 'reactions', 'acute', 'kidney', 'injury', 'Wants', 'know', 'happens', 'Medullary', 'thyroid', 'carcinoma-', 'rates', 'cancer', 'compared', 'thyroid', 'cancers', 'Diabetic', 'retinopathy', 'get', 'get', 'worse', 'thi'], ['Rybelsus', 'cause', 'lethargy', 'mitigated'], ['please', 'review', 'administer', 'Rybelsus', 'pt', 'thyroid', 'medication', 'PPI', 'take', 'medication', 'drugs'], ['Jeanine', 'Evans', 'APRN', 'asked', '“', 'patient', '14mg', 'RYBELSUS', 'A1c', 'less', '6', 'lost', '60', 'pounds', 'sure', 'considered', 'diabetic', 'keep', '14mg', 'decrease', 'dose', 'would', 'best', 'plan', 'moving', 'forward', '”'], ['HCP', 'requests', 'guidance', 'manage', 'thyroid', 'medication', 'morning', 'Rybelsus', 'initiated'], ['studies', 'Rybelsus', 'weight', 'loss', 'studies', 'specific', 'areas', 'weight', 'loss', 'waist', 'circumference/stomach', 'area', 'Rybelsus'], ['send', 'information', 'clinical', 'studies', 'regards', 'Rybelsus', 'semaglutide', 'CKD', 'Rybelsus', 'slow', 'progression', 'CKD', 'and/or', 'improve', 'renal', 'function'], ['Please', 'send', 'MI', 'letter', 'OSEM', '072', 'Pancreatitis'], ['Dr.', 'Lia', 'would', 'like', 'know', 'pt.s', 'take', 'Rybelsus', 'night', 'told', 'information', 'pi', 'information', 'pi', 'please', 'send'], ['Doctor', 'told', 'feels', 'SGLT-1', 'protects', 'renal', 'better', 'GLP-1', 'data', 'whether', 'GLP-1', 'impact', 'renal'], ['evidence', 'support', 'use', 'patients', 'PCOS', 'support', 'treatment', 'PCOS'], ['ever', 'Rybelsus', 'molecule', 'tablet', 'weight', 'loss'], ['Dr.', 'Patel', 'would', 'like', 'information', 'safety', 'efficacy', 'patients', 'end-stage', 'renal', 'disease', 'including', 'dialysis', 'stage', '4', '5', 'chronic', 'kidney', 'disease'], ['best', 'way', 'advise', 'patients', 'take', 'Rybelsus', 'along', 'thyroid', 'medication', 'also', 'specific', 'dosing', 'considerations', 'optimize', 'treatment', 'medications'], ['Dr.', 'Viglione', 'asked', 'reports', 'data', 'patient', 'experiencing', 'numbness', 'genitals', 'taking', 'Rybelsus', 'information', 'Rybelsus', 'binding', 'excreted', 'seminal', 'fluid', 'Thank'], ['Dr', 'two', 'questions', '1', 'looking', 'head', 'head', 'data', 'Ozempic', 'Rybelsus', '2', 'also', 'looking', 'information', 'mechanism', 'absorption', 'Rybelsus'], ['Would', 'like', 'know', 'take', 'thyroid', 'respect', 'Rybelsus', 'take', 'together', 'take', 'thyroid', 'first'], ['Pharmacist', 'interested', 'know', 'dose', 'escalation', 'Rybelsus', '14mg', '2mg', 'Ozempic'], ['Provider', 'question', 'regarding', 'MTC', 'relation', 'pheochromocytoma', 'Patient', 'pheochromocytoma', '40', 'years', 'ago', 'Prescriber', 'wanting', 'put', 'patient', 'rybelsus', 'concerns', 'regard', 'contraindication'], ['Dr.', 'Kipp', 'inquired', 'much', 'weight', 'loss', '26', 'weeks', 'ended', 'pioneer', 'studies', 'also', 'want', 'studies', 'pioneer', '3', '4', 'see', 'comparisons', 'weight', 'A1c'], ['Please', 'send', '1', 'page', 'Medicaid', 'summary', 'customer', 'Thank']]\n"
     ]
    }
   ],
   "source": [
    "#removing punctuations and stopwords to extract main relavant data\n",
    "import nltk\n",
    "from nltk.corpus import stopwords\n",
    "from nltk.tokenize import word_tokenize\n",
    "from nltk.tokenize import RegexpTokenizer\n",
    "import string\n",
    "filtered_sentence_array = []\n",
    "for sentence in df['Data']:\n",
    "    example_sent = sentence\n",
    "    #print(example_sent)\n",
    "    stop_words = stopwords.words('english')\n",
    "    #print(stop_words)\n",
    "    word_tokens = word_tokenize(example_sent)\n",
    "    #print(word_tokens)\n",
    "    filtered_sentence = [w for w in word_tokens if not w.lower() in stop_words and w not in string.punctuation]\n",
    "    #print(filtered_sentence)\n",
    "    filtered_sentence_array.append(filtered_sentence)\n",
    "print(filtered_sentence_array)"
   ]
  },
  {
   "cell_type": "code",
   "execution_count": 82,
   "metadata": {},
   "outputs": [],
   "source": [
    "#writing the data into excel\n",
    "import xlsxwriter\n",
    "workbook = xlsxwriter.Workbook('arrays.xlsx')\n",
    "worksheet = workbook.add_worksheet()\n",
    "cell_format = workbook.add_format()\n",
    "cell_format.set_text_wrap()\n",
    "cell_format.set_align('vcenter')\n",
    "array = filtered_sentence_array\n",
    "col = 0\n",
    "for row, data in enumerate(array):\n",
    "    worksheet.write(row, col, ','.join(data), cell_format)\n",
    "workbook.close()"
   ]
  }
 ],
 "metadata": {
  "kernelspec": {
   "display_name": "Python 3",
   "language": "python",
   "name": "python3"
  },
  "language_info": {
   "codemirror_mode": {
    "name": "ipython",
    "version": 3
   },
   "file_extension": ".py",
   "mimetype": "text/x-python",
   "name": "python",
   "nbconvert_exporter": "python",
   "pygments_lexer": "ipython3",
   "version": "3.6.5"
  }
 },
 "nbformat": 4,
 "nbformat_minor": 2
}
